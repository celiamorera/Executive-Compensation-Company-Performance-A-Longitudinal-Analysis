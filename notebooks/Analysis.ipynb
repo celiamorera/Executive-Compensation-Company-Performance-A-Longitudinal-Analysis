{
 "cells": [
  {
   "cell_type": "markdown",
   "id": "31f8f034-8af2-46ee-8289-8a3e66c75bae",
   "metadata": {},
   "source": [
    "# Executive-Compensation-Company-Performance-A-Longitudinal-Analysis #"
   ]
  },
  {
   "cell_type": "markdown",
   "id": "ce2bb0b9-0baf-4a59-88b7-5ab3c1173429",
   "metadata": {},
   "source": [
    "## Table of Contents:\n",
    "1. [Data Pre-Processing](#1.-Data-Pre-Processing)\n",
    "   \n",
    "   1.1. [Audit, Top Categories & Modal](#1.1.-Audit,-Top-Categories-&-Modal)\n",
    "\n",
    "   1.2. [Computing lags & filling dummies](#1.2.-Computing-lags-&-filling-dummies)\n",
    "\n",
    "   1.3. [Calculating Annual Price Return](#1.3.-Calculating-Annual-Price-Return)\n",
    "\n",
    "   1.4. [Handling missing data & duplicates](#1.4.-Handling-missing-data-&-duplicates)\n",
    "   \n",
    "2. [Model Implementation](#2.-Model-Implementation)\n",
    "\n",
    "   2.1. [Panel Object & Basic Descriptives](#2.1.-Panel-Object-&-Basic-Descriptives)\n",
    "\n",
    "   2.2. [Fixed-Effects](#2.2.-Fixed-Effects)\n",
    "\n",
    "   2.3. [Random Effects & Hausam Test](#2.3.-Random-Effects-&-Hausman-Test)\n",
    "   \n",
    "3. [Model Evaluation & Robustness](#3.-Model-Evaluation-&-Robustness)\n",
    "\n",
    "   3.1. [Wald: Joint significance of both lags](#3.1.-Wald:-Joint-significance-of-both-lags)\n",
    "   \n",
    "   3.2. [Alternative SEs](#3.2.-Alternative-SEs)\n",
    "\n",
    "   3.3. [Heterogeneity by sector dummy](#3.3.-Heterogeneity-by-sector-dummy)\n",
    "\n",
    "   3.4. [Influence: leave-one-firm-out (LOEO) stability check](#3.4.-Influence:-leave-one-firm-out-(LOEO)-stability-check)\n",
    "\n",
    "   3.5. [Multicollinearity (VIF) on regressors used in FE](#3.5.-Multicollinearity-(VIF)-on-regressors-used-in-FE)\n",
    "\n",
    "   3.6. [Winsorisation robustness](#3.6.-Winsorisation-robustness)\n",
    "\n",
    "   3.7. [Exporting tables](#3.7.-Exporting-tables)\n",
    "\n",
    "4. [Visuals](#4.-Visuals)\n",
    "\n",
    "   4.1. [Time trend of mean annual return](#4.1.-Time-trend-of-mean-annual-return)\n",
    "\n",
    "   4.2. [Histograms: DV and logLag1](#4.2.-Histograms:-DV-and-logLag1)\n",
    "\n",
    "   4.3. [Binned scatter: logLag1 vs DV](#4.3.-Binned-scatter:-logLag1-vs-DV)\n",
    "\n",
    "   4.4. [Coefficient plot with 95% CI from FE results](#4.4.-Coefficient-plot-with-95%-CI-from-FE-results)"
   ]
  },
  {
   "cell_type": "markdown",
   "id": "3ba46f9a-5f67-48d2-88ef-6e78878f735c",
   "metadata": {},
   "source": [
    "### **1. Data Pre-Processing**"
   ]
  },
  {
   "cell_type": "markdown",
   "id": "c147377f-548a-4527-b5b6-d950292c99bc",
   "metadata": {},
   "source": [
    "#### 1.1. Audit, Top Categories & Modal"
   ]
  },
  {
   "cell_type": "code",
   "execution_count": 5,
   "id": "57be527a-d45a-4dd4-a44d-a24b543cc5d7",
   "metadata": {},
   "outputs": [
    {
     "name": "stdout",
     "output_type": "stream",
     "text": [
      "[versions] python 3.12.4 | pandas 2.2.2 | numpy 1.26.4 | statsmodels 0.14.2 | linearmodels 6.1\n"
     ]
    }
   ],
   "source": [
    "#Quick env print for reproducibility in appendix\n",
    "import platform, pandas as pd, numpy as np, statsmodels, linearmodels\n",
    "print(\"[versions]\",\n",
    "      \"python\", platform.python_version(),\n",
    "      \"| pandas\", pd.__version__,\n",
    "      \"| numpy\", np.__version__,\n",
    "      \"| statsmodels\", statsmodels.__version__,\n",
    "      \"| linearmodels\", linearmodels.__version__)"
   ]
  },
  {
   "cell_type": "code",
   "execution_count": 6,
   "id": "d91ed811-c114-4176-ba6c-44b5e76d2c51",
   "metadata": {},
   "outputs": [
    {
     "name": "stdout",
     "output_type": "stream",
     "text": [
      "Requirement already satisfied: linearmodels in c:\\users\\celia\\anaconda3\\lib\\site-packages (6.1)\n",
      "Requirement already satisfied: numpy<3,>=1.22.3 in c:\\users\\celia\\anaconda3\\lib\\site-packages (from linearmodels) (1.26.4)\n",
      "Requirement already satisfied: pandas>=1.4.0 in c:\\users\\celia\\anaconda3\\lib\\site-packages (from linearmodels) (2.2.2)\n",
      "Requirement already satisfied: scipy>=1.8.0 in c:\\users\\celia\\anaconda3\\lib\\site-packages (from linearmodels) (1.13.1)\n",
      "Requirement already satisfied: statsmodels>=0.13.0 in c:\\users\\celia\\anaconda3\\lib\\site-packages (from linearmodels) (0.14.2)\n",
      "Requirement already satisfied: mypy-extensions>=0.4 in c:\\users\\celia\\anaconda3\\lib\\site-packages (from linearmodels) (1.0.0)\n",
      "Requirement already satisfied: Cython>=3.0.10 in c:\\users\\celia\\anaconda3\\lib\\site-packages (from linearmodels) (3.1.3)\n",
      "Requirement already satisfied: pyhdfe>=0.1 in c:\\users\\celia\\anaconda3\\lib\\site-packages (from linearmodels) (0.2.0)\n",
      "Requirement already satisfied: formulaic>=1.0.0 in c:\\users\\celia\\anaconda3\\lib\\site-packages (from linearmodels) (1.2.0)\n",
      "Requirement already satisfied: setuptools-scm<9.0.0,>=8.0.0 in c:\\users\\celia\\anaconda3\\lib\\site-packages (from setuptools-scm[toml]<9.0.0,>=8.0.0->linearmodels) (8.3.1)\n",
      "Requirement already satisfied: interface-meta>=1.2.0 in c:\\users\\celia\\anaconda3\\lib\\site-packages (from formulaic>=1.0.0->linearmodels) (1.3.0)\n",
      "Requirement already satisfied: narwhals>=1.17 in c:\\users\\celia\\anaconda3\\lib\\site-packages (from formulaic>=1.0.0->linearmodels) (2.1.2)\n",
      "Requirement already satisfied: typing-extensions>=4.2.0 in c:\\users\\celia\\anaconda3\\lib\\site-packages (from formulaic>=1.0.0->linearmodels) (4.11.0)\n",
      "Requirement already satisfied: wrapt>=1.0 in c:\\users\\celia\\anaconda3\\lib\\site-packages (from formulaic>=1.0.0->linearmodels) (1.14.1)\n",
      "Requirement already satisfied: python-dateutil>=2.8.2 in c:\\users\\celia\\anaconda3\\lib\\site-packages (from pandas>=1.4.0->linearmodels) (2.9.0.post0)\n",
      "Requirement already satisfied: pytz>=2020.1 in c:\\users\\celia\\anaconda3\\lib\\site-packages (from pandas>=1.4.0->linearmodels) (2024.1)\n",
      "Requirement already satisfied: tzdata>=2022.7 in c:\\users\\celia\\anaconda3\\lib\\site-packages (from pandas>=1.4.0->linearmodels) (2023.3)\n",
      "Requirement already satisfied: packaging>=20 in c:\\users\\celia\\anaconda3\\lib\\site-packages (from setuptools-scm<9.0.0,>=8.0.0->setuptools-scm[toml]<9.0.0,>=8.0.0->linearmodels) (23.2)\n",
      "Requirement already satisfied: setuptools in c:\\users\\celia\\anaconda3\\lib\\site-packages (from setuptools-scm<9.0.0,>=8.0.0->setuptools-scm[toml]<9.0.0,>=8.0.0->linearmodels) (69.5.1)\n",
      "Requirement already satisfied: patsy>=0.5.6 in c:\\users\\celia\\anaconda3\\lib\\site-packages (from statsmodels>=0.13.0->linearmodels) (0.5.6)\n",
      "Requirement already satisfied: six in c:\\users\\celia\\anaconda3\\lib\\site-packages (from patsy>=0.5.6->statsmodels>=0.13.0->linearmodels) (1.16.0)\n"
     ]
    }
   ],
   "source": [
    "#std libs + plotting + econometrics\n",
    "import pandas as pd\n",
    "import numpy as np, pathlib, textwrap, json, sys, warnings\n",
    "import matplotlib.pyplot as plt\n",
    "import seaborn as sns\n",
    "from datetime import datetime\n",
    "import statsmodels.api as sm\n",
    "\n",
    "from pathlib import Path\n",
    "import pandas as pd, json\n",
    "\n",
    "!pip install linearmodels\n",
    "from linearmodels.panel import PanelOLS, RandomEffects\n",
    "\n",
    "warnings.filterwarnings(\"ignore\")"
   ]
  },
  {
   "cell_type": "code",
   "execution_count": 7,
   "id": "7f93e12b-3694-4f15-be4c-d3ecb8324731",
   "metadata": {},
   "outputs": [],
   "source": [
    "#Paths + column names (single source of truth for headers)\n",
    "PATH_IN  = \"Final_Dataset.xlsx\"\n",
    "SHEET    = \"Dataset\"\n",
    "PATH_OUT = \"Final_Dataset_STWX.xlsx\"  # new file; raw stays intact\n",
    "\n",
    "ID_COL      = \"Company\"\n",
    "YEAR_COL    = \"Year\"\n",
    "COMP_COL    = \"CEO Total Compensation (USD)\"\n",
    "PRICE_COL   = \"Stock Price (USD)\"\n",
    "COUNTRY_COL = \"Country\"\n",
    "SECTOR_COL  = \"Industry\"\n",
    "U_COL = \"Compensation / Revenue\"\n",
    "V_COL = \"Compensation / Net Income\"\n",
    "\n",
    "#Raw Excel; not overwrite the original file\n",
    "df = pd.read_excel(PATH_IN, sheet_name=SHEET)"
   ]
  },
  {
   "cell_type": "code",
   "execution_count": 8,
   "id": "56503f81-a0d6-4ccf-bd2b-fa1c5748b78c",
   "metadata": {},
   "outputs": [
    {
     "name": "stdout",
     "output_type": "stream",
     "text": [
      "Shape: (330, 24)\n",
      "\n",
      "Columns: ['Company', 'Country', 'Industry', 'Year', 'CEO Name', 'CEO Total Compensation (USD)', 'Base Salary (USD)', 'Bonus (USD)', 'Equity/Stock Awards (USD)', 'Revenue (USD)', 'Net Income (USD)', 'Market Capitalization (m USD)', 'Stock Price (USD)', 'Return on Equity (ROE)', 'Return on Assets (ROA)', 'Number of Employees', 'Total Assets (USD)', 'Total Debt (USD)', 'Lagged Compensation (t-1)', 'Lagged Compensation (t-2)', 'Compensation / Revenue', 'Compensation / Net Income', 'Country Dummy', 'Sector Dummy']\n",
      "\n",
      "Missing %:\n",
      " Sector Dummy                     100.0\n",
      "Country Dummy                    100.0\n",
      "Lagged Compensation (t-2)        100.0\n",
      "Lagged Compensation (t-1)        100.0\n",
      "Country                            0.0\n",
      "Compensation / Net Income          0.0\n",
      "Compensation / Revenue             0.0\n",
      "Total Debt (USD)                   0.0\n",
      "Total Assets (USD)                 0.0\n",
      "Number of Employees                0.0\n",
      "Return on Assets (ROA)             0.0\n",
      "Return on Equity (ROE)             0.0\n",
      "Company                            0.0\n",
      "Market Capitalization (m USD)      0.0\n",
      "Net Income (USD)                   0.0\n",
      "dtype: float64\n"
     ]
    }
   ],
   "source": [
    "#Audit\n",
    "print(\"Shape:\", df.shape)\n",
    "print(\"\\nColumns:\", list(df.columns))\n",
    "print(\"\\nMissing %:\\n\", (df.isna().mean()*100).round(2).sort_values(ascending=False).head(15))"
   ]
  },
  {
   "cell_type": "code",
   "execution_count": 9,
   "id": "567ecd99-4380-46c6-979e-565d72dcca69",
   "metadata": {},
   "outputs": [
    {
     "name": "stdout",
     "output_type": "stream",
     "text": [
      "\n",
      "Duplicate (Company,Year) rows: 0\n"
     ]
    }
   ],
   "source": [
    "#Duplicated firm-year check\n",
    "dups = df.duplicated(subset=[ID_COL, YEAR_COL]).sum()\n",
    "print(f\"\\nDuplicate (Company,Year) rows: {dups}\")"
   ]
  },
  {
   "cell_type": "code",
   "execution_count": 10,
   "id": "4f2c99d5-5209-4b01-aa4e-0b7b4119d4fa",
   "metadata": {},
   "outputs": [
    {
     "name": "stdout",
     "output_type": "stream",
     "text": [
      "\n",
      "Top Countries (count | %):\n",
      "         count  count\n",
      "Country              \n",
      "Germany     66  20.00\n",
      "USA         55  16.67\n",
      "France      55  16.67\n",
      "Japan       55  16.67\n",
      "UK          44  13.33\n",
      "China       33  10.00\n",
      "Canada      22   6.67\n",
      "\n",
      "Top Industries (count | %):\n",
      "                     count  count\n",
      "Industry                         \n",
      "Consumer/Industrial     99  30.00\n",
      "Finance                 77  23.33\n",
      "Pharma/Healthcare       66  20.00\n",
      "Technology              55  16.67\n",
      "Energy                  33  10.00\n"
     ]
    }
   ],
   "source": [
    "#Picking most frequent category\n",
    "top_countries = df[COUNTRY_COL].astype(str).str.strip().value_counts(dropna=True)\n",
    "top_sectors   = df[SECTOR_COL].astype(str).str.strip().value_counts(dropna=True)\n",
    "\n",
    "print(\"\\nTop Countries (count | %):\")\n",
    "print(pd.concat([top_countries, (top_countries/top_countries.sum()*100).round(2)], axis=1).rename(columns={0:\"count\",1:\"pct\"}).head(10))\n",
    "print(\"\\nTop Industries (count | %):\")\n",
    "print(pd.concat([top_sectors, (top_sectors/top_sectors.sum()*100).round(2)], axis=1).rename(columns={0:\"count\",1:\"pct\"}).head(10))"
   ]
  },
  {
   "cell_type": "code",
   "execution_count": 11,
   "id": "2a20c508-dfd2-4a10-a51c-9862c5976131",
   "metadata": {},
   "outputs": [
    {
     "name": "stdout",
     "output_type": "stream",
     "text": [
      "\n",
      "Selected modal categories:\n",
      "FOCUS_COUNTRY = Germany (count=66)\n",
      "FOCUS_SECTOR  = Consumer/Industrial  (count=99)\n"
     ]
    }
   ],
   "source": [
    "#Choosing modal\n",
    "def pick_modal(vcounts: pd.Series) -> str:\n",
    "    max_count = vcounts.iloc[0]\n",
    "    tied = vcounts[vcounts == max_count]\n",
    "    if len(tied) == 1:\n",
    "        return tied.index[0]\n",
    "    return sorted(tied.index.astype(str))[0]\n",
    "\n",
    "FOCUS_COUNTRY = pick_modal(top_countries)\n",
    "FOCUS_SECTOR  = pick_modal(top_sectors)\n",
    "\n",
    "print(\"\\nSelected modal categories:\")\n",
    "print(f\"FOCUS_COUNTRY = {FOCUS_COUNTRY} (count={int(top_countries[FOCUS_COUNTRY])})\")\n",
    "print(f\"FOCUS_SECTOR  = {FOCUS_SECTOR}  (count={int(top_sectors[FOCUS_SECTOR])})\")"
   ]
  },
  {
   "cell_type": "markdown",
   "id": "25d01d57-8ae5-4419-84d2-df542cc40300",
   "metadata": {},
   "source": [
    "#### 1.2. Computing lags & filling dummies"
   ]
  },
  {
   "cell_type": "code",
   "execution_count": 13,
   "id": "abeb41f9-0bdc-4f77-9805-58382be45369",
   "metadata": {},
   "outputs": [],
   "source": [
    "#Creating dummies using modal categories\n",
    "\n",
    "PATH_OUT = \"Final_Dataset_STWX.xlsx\"\n",
    "\n",
    "#Label clean and year numeric for correct lagging\n",
    "df[COUNTRY_COL] = df[COUNTRY_COL].astype(str).str.strip()\n",
    "df[SECTOR_COL]  = df[SECTOR_COL].astype(str).str.strip()\n",
    "df[YEAR_COL]    = pd.to_numeric(df[YEAR_COL], errors=\"coerce\")\n",
    "df = df.sort_values([ID_COL, YEAR_COL], ascending=True).copy()\n",
    "\n",
    "#Computing lags of compensation within firm\n",
    "df[\"Lagged Compensation (t-1)\"] = df.groupby(ID_COL)[COMP_COL].shift(1)\n",
    "df[\"Lagged Compensation (t-2)\"] = df.groupby(ID_COL)[COMP_COL].shift(2)"
   ]
  },
  {
   "cell_type": "code",
   "execution_count": 14,
   "id": "b00c1357-2f6f-4591-ba5f-23d31604e884",
   "metadata": {},
   "outputs": [
    {
     "name": "stdout",
     "output_type": "stream",
     "text": [
      "Preprocessing saved to: Final_Dataset_STWX.xlsx\n",
      "Focus choices → Country: Germany | Sector: Consumer/Industrial\n"
     ]
    }
   ],
   "source": [
    "#Filling dummies with the selected modal choices\n",
    "##Modal dummies: 1 if equals selected modal, else 0 (Int64 keeps NaN if any)\n",
    "df[\"Country Dummy\"] = (df[COUNTRY_COL] == FOCUS_COUNTRY).astype(\"Int64\")\n",
    "df[\"Sector Dummy\"]  = (df[SECTOR_COL]  == FOCUS_SECTOR ).astype(\"Int64\")\n",
    "\n",
    "#Saving into new excel file\n",
    "df.to_excel(PATH_OUT, sheet_name=\"Dataset\", index=False)\n",
    "print(f\"Preprocessing saved to: {PATH_OUT}\")\n",
    "print(\"Focus choices → Country:\", FOCUS_COUNTRY, \"| Sector:\", FOCUS_SECTOR)"
   ]
  },
  {
   "cell_type": "markdown",
   "id": "498b4049-6faa-4cce-b4fd-e450ef25bf7f",
   "metadata": {},
   "source": [
    "#### 1.3. Calculating Annual Price Return"
   ]
  },
  {
   "cell_type": "code",
   "execution_count": 16,
   "id": "6a00ba50-4427-434a-ab93-0fdca1e8d40b",
   "metadata": {},
   "outputs": [],
   "source": [
    "PRICE_COL = \"Stock Price (USD)\"\n",
    "\n",
    "#Robust money: float converter (handles $, commas, EU decimals, dashes)\n",
    "def to_numeric_usd(series: pd.Series) -> pd.Series:\n",
    "    s = series.astype(str).str.strip()\n",
    "    s = s.replace({\"\": np.nan, \"-\": np.nan, \"—\": np.nan, \"–\": np.nan, \"nan\": np.nan, \"None\": np.nan}) #'missing' tokens → NaN\n",
    "    s = s.str.replace(r\"^\\((.*)\\)$\", r\"-\\1\", regex=True) #parenthesesing negatives\n",
    "    s_clean = s.str.replace(r\"[^\\d\\.\\,\\-\\s]\", \"\", regex=True) #removing currency symbols and non-numeric letters\n",
    "    s_clean = s_clean.str.replace(\"\\u00A0\", \"\", regex=False).str.replace(\" \", \"\", regex=False) #normalising weird spaces\n",
    "    \n",
    "    s_us = s_clean.str.replace(\",\", \"\", regex=False) #removing commas as thousands\n",
    "    num1 = pd.to_numeric(s_us, errors=\"coerce\")\n",
    "    \n",
    "    need2 = num1.isna() & s_clean.notna() #dropping thousands '.', replacing ',' with '.'\n",
    "    s_eu = s_clean[need2].str.replace(\".\", \"\", regex=False).str.replace(\",\", \".\", regex=False)\n",
    "    num2 = pd.to_numeric(s_eu, errors=\"coerce\")\n",
    "    \n",
    "    out = num1.copy()\n",
    "    out[need2] = out[need2].fillna(num2)\n",
    "\n",
    "    return out"
   ]
  },
  {
   "cell_type": "code",
   "execution_count": 17,
   "id": "0b833566-5531-403d-bdd4-63e23ff83cde",
   "metadata": {},
   "outputs": [
    {
     "name": "stdout",
     "output_type": "stream",
     "text": [
      "Before conversion: object\n",
      "Raw examples: ['8.49', '11.620999999999999', '18.916', '18.962', '21.508']\n"
     ]
    }
   ],
   "source": [
    "#Current dtype with examples\n",
    "print(\"Before conversion:\", df[PRICE_COL].dtype)\n",
    "print(\"Raw examples:\", df[PRICE_COL].dropna().astype(str).head(5).tolist())"
   ]
  },
  {
   "cell_type": "code",
   "execution_count": 18,
   "id": "75cff7db-dd64-4079-957e-812e025a79d4",
   "metadata": {},
   "outputs": [
    {
     "name": "stdout",
     "output_type": "stream",
     "text": [
      "Converted price to numeric. Non-NaN fixed/parsed: 325/330\n",
      "Remaining NaN after parse: 5 (these rows will yield NaN returns)\n"
     ]
    }
   ],
   "source": [
    "#Converting to numeric with robust cleaner\n",
    "price_numeric = to_numeric_usd(df[PRICE_COL])\n",
    "\n",
    "#Quick QC\n",
    "n_total   = len(price_numeric)\n",
    "n_nan_old = df[PRICE_COL].isna().sum()\n",
    "n_nan_new = price_numeric.isna().sum()\n",
    "n_fixed   = (df[PRICE_COL].notna() & price_numeric.notna()).sum()\n",
    "\n",
    "print(f\"Converted price to numeric. Non-NaN fixed/parsed: {n_fixed}/{n_total - n_nan_old}\")\n",
    "print(f\"Remaining NaN after parse: {n_nan_new} (these rows will yield NaN returns)\")"
   ]
  },
  {
   "cell_type": "code",
   "execution_count": 19,
   "id": "cdea08da-ac5f-4973-bf74-f7062d31d7dc",
   "metadata": {},
   "outputs": [],
   "source": [
    "#Building in-memory returns frame\n",
    "tmp = df[[ID_COL, YEAR_COL]].copy()\n",
    "tmp[\"Price_numeric\"] = price_numeric\n",
    "\n",
    "tmp = tmp.sort_values([ID_COL, YEAR_COL])\n",
    "tmp[\"AnnualPriceReturn\"] = tmp.groupby(ID_COL)[\"Price_numeric\"].pct_change()\n",
    "\n",
    "#Merge back in-memory\n",
    "df_model = df.merge(\n",
    "    tmp[[ID_COL, YEAR_COL, \"AnnualPriceReturn\"]],\n",
    "    on=[ID_COL, YEAR_COL],\n",
    "    how=\"left\"\n",
    ")"
   ]
  },
  {
   "cell_type": "code",
   "execution_count": 20,
   "id": "8b418dff-7832-4b0f-a5ee-63c886f2f46e",
   "metadata": {},
   "outputs": [
    {
     "name": "stdout",
     "output_type": "stream",
     "text": [
      "[ok] constants defined & columns found.\n"
     ]
    }
   ],
   "source": [
    "#Redefining constants\n",
    "if 'ID_COL'   not in globals(): ID_COL   = \"Company\"\n",
    "if 'YEAR_COL' not in globals(): YEAR_COL = \"Year\"\n",
    "if 'COMP_COL' not in globals(): COMP_COL = \"CEO Total Compensation (USD)\"\n",
    "if 'DV_COL'    not in globals(): DV_COL    = \"AnnualPriceReturn\"\n",
    "if 'LAG1_COL'  not in globals(): LAG1_COL  = \"Lagged Compensation (t-1)\"\n",
    "if 'LAG2_COL'  not in globals(): LAG2_COL  = \"Lagged Compensation (t-2)\"\n",
    "\n",
    "#Check\n",
    "for c in [ID_COL, YEAR_COL, DV_COL, LAG1_COL, LAG2_COL]:\n",
    "    assert c in df_model.columns, f\"Column not found in df_model: {c}\"\n",
    "print(\"[ok] constants defined & columns found.\")"
   ]
  },
  {
   "cell_type": "code",
   "execution_count": 21,
   "id": "358515ac-e857-4da5-95cc-6a27c44a913e",
   "metadata": {},
   "outputs": [
    {
     "name": "stdout",
     "output_type": "stream",
     "text": [
      "[check] firms with non-monotonic years: 0\n"
     ]
    }
   ],
   "source": [
    "#Making sure key cols are numeric float\n",
    "for c in [DV_COL, LAG1_COL, LAG2_COL]:\n",
    "    df_model[c] = pd.to_numeric(df_model[c], errors=\"coerce\").astype(float)\n",
    "\n",
    "#Checking Year monotonic per firm\n",
    "bad = (\n",
    "    df_model.sort_values([ID_COL, YEAR_COL])\n",
    "            .groupby(ID_COL)[YEAR_COL]\n",
    "            .apply(lambda s: (s.diff().dropna() < 0).any())\n",
    ")\n",
    "print(f\"[check] firms with non-monotonic years: {int(bad.sum())}\")"
   ]
  },
  {
   "cell_type": "code",
   "execution_count": 22,
   "id": "1eb85160-75de-435a-9e3c-bc02eb4cc06f",
   "metadata": {},
   "outputs": [
    {
     "name": "stdout",
     "output_type": "stream",
     "text": [
      "[check] AnnualPriceReturn percentiles:\n",
      "0.01   -0.425717\n",
      "0.05   -0.279578\n",
      "0.95    0.565384\n",
      "0.99    1.190030\n",
      "Name: AnnualPriceReturn, dtype: float64\n"
     ]
    }
   ],
   "source": [
    "#DV extremes (awareness)\n",
    "q = df_model[DV_COL].quantile([.01,.05,.95,.99])\n",
    "print(f\"[check] {DV_COL} percentiles:\\n{q}\")"
   ]
  },
  {
   "cell_type": "code",
   "execution_count": 23,
   "id": "035f9a19-8de2-4b1e-8da1-c883b60d892c",
   "metadata": {},
   "outputs": [
    {
     "name": "stdout",
     "output_type": "stream",
     "text": [
      "       Company  Year Stock Price (USD)  AnnualPriceReturn\n",
      "0   APPLE INC.  2010              8.49                NaN\n",
      "1   APPLE INC.  2011            11.621           0.368787\n",
      "2   APPLE INC.  2012            18.916           0.627743\n",
      "3   APPLE INC.  2013            18.962           0.002432\n",
      "4   APPLE INC.  2014            21.508           0.134269\n",
      "5   APPLE INC.  2015           28.3175           0.316603\n",
      "6   APPLE INC.  2016           26.6615          -0.058480\n",
      "7   APPLE INC.  2017           33.6275           0.261276\n",
      "8   APPLE INC.  2018           47.4885           0.412192\n",
      "9   APPLE INC.  2019            46.934          -0.011677\n",
      "10  APPLE INC.  2020           95.5665           1.036189\n",
      "11      Airbus  2010           23.3696                NaN\n"
     ]
    }
   ],
   "source": [
    "#Check new Annual Price Return column has been included\n",
    "print(df_model[[ID_COL, YEAR_COL, PRICE_COL, \"AnnualPriceReturn\"]].head(12))"
   ]
  },
  {
   "cell_type": "markdown",
   "id": "195060bc-becd-40e8-bfa5-4db2ed815f1f",
   "metadata": {},
   "source": [
    "#### 1.4. Handling missing data & duplicates"
   ]
  },
  {
   "cell_type": "code",
   "execution_count": 25,
   "id": "1a3dc421-888d-4310-81f7-83db4c8bebab",
   "metadata": {},
   "outputs": [],
   "source": [
    "LAG1_COL = \"Lagged Compensation (t-1)\"\n",
    "LAG2_COL = \"Lagged Compensation (t-2)\"\n",
    "DV_COL   = \"AnnualPriceReturn\""
   ]
  },
  {
   "cell_type": "code",
   "execution_count": 26,
   "id": "7063b1fc-d1c3-438e-8aa4-ce7163ea03d9",
   "metadata": {},
   "outputs": [
    {
     "name": "stdout",
     "output_type": "stream",
     "text": [
      "\n",
      "Exact duplicate rows: 0\n",
      "Firm-year duplicate rows: 0\n"
     ]
    }
   ],
   "source": [
    "#Duplicates\n",
    "exact_dups = df_model.duplicated().sum()\n",
    "fw_dups    = df_model.duplicated(subset=[ID_COL, YEAR_COL], keep=False).sum()\n",
    "print(f\"\\nExact duplicate rows: {exact_dups}\")\n",
    "print(f\"Firm-year duplicate rows: {fw_dups}\")\n",
    "if fw_dups:\n",
    "    display(\n",
    "        df_model[df_model.duplicated(subset=[ID_COL, YEAR_COL], keep=False)]\n",
    "        .sort_values([ID_COL, YEAR_COL])\n",
    "        .head(10)\n",
    "    )"
   ]
  },
  {
   "cell_type": "code",
   "execution_count": 27,
   "id": "a17b935d-82c7-4605-a7a0-85c5ab4eb212",
   "metadata": {},
   "outputs": [
    {
     "name": "stdout",
     "output_type": "stream",
     "text": [
      "Rows × Cols: (330, 25)\n",
      "\n",
      "% Missing (key vars):\n",
      "Lagged Compensation (t-2)       20.00\n",
      "Lagged Compensation (t-1)       10.91\n",
      "AnnualPriceReturn               10.61\n",
      "CEO Total Compensation (USD)     0.00\n",
      "dtype: float64\n",
      "\n",
      "% Missing by YEAR (key vars):\n"
     ]
    },
    {
     "data": {
      "text/html": [
       "<div>\n",
       "<style scoped>\n",
       "    .dataframe tbody tr th:only-of-type {\n",
       "        vertical-align: middle;\n",
       "    }\n",
       "\n",
       "    .dataframe tbody tr th {\n",
       "        vertical-align: top;\n",
       "    }\n",
       "\n",
       "    .dataframe thead th {\n",
       "        text-align: right;\n",
       "    }\n",
       "</style>\n",
       "<table border=\"1\" class=\"dataframe\">\n",
       "  <thead>\n",
       "    <tr style=\"text-align: right;\">\n",
       "      <th></th>\n",
       "      <th>AnnualPriceReturn</th>\n",
       "      <th>CEO Total Compensation (USD)</th>\n",
       "      <th>Lagged Compensation (t-1)</th>\n",
       "      <th>Lagged Compensation (t-2)</th>\n",
       "    </tr>\n",
       "    <tr>\n",
       "      <th>Year</th>\n",
       "      <th></th>\n",
       "      <th></th>\n",
       "      <th></th>\n",
       "      <th></th>\n",
       "    </tr>\n",
       "  </thead>\n",
       "  <tbody>\n",
       "    <tr>\n",
       "      <th>2010</th>\n",
       "      <td>100.0</td>\n",
       "      <td>0.0</td>\n",
       "      <td>100.0</td>\n",
       "      <td>100.0</td>\n",
       "    </tr>\n",
       "    <tr>\n",
       "      <th>2011</th>\n",
       "      <td>3.3</td>\n",
       "      <td>0.0</td>\n",
       "      <td>3.3</td>\n",
       "      <td>100.0</td>\n",
       "    </tr>\n",
       "    <tr>\n",
       "      <th>2012</th>\n",
       "      <td>3.3</td>\n",
       "      <td>0.0</td>\n",
       "      <td>3.3</td>\n",
       "      <td>3.3</td>\n",
       "    </tr>\n",
       "    <tr>\n",
       "      <th>2013</th>\n",
       "      <td>3.3</td>\n",
       "      <td>0.0</td>\n",
       "      <td>3.3</td>\n",
       "      <td>3.3</td>\n",
       "    </tr>\n",
       "    <tr>\n",
       "      <th>2014</th>\n",
       "      <td>3.3</td>\n",
       "      <td>0.0</td>\n",
       "      <td>3.3</td>\n",
       "      <td>3.3</td>\n",
       "    </tr>\n",
       "    <tr>\n",
       "      <th>2015</th>\n",
       "      <td>3.3</td>\n",
       "      <td>0.0</td>\n",
       "      <td>3.3</td>\n",
       "      <td>3.3</td>\n",
       "    </tr>\n",
       "    <tr>\n",
       "      <th>2016</th>\n",
       "      <td>0.0</td>\n",
       "      <td>0.0</td>\n",
       "      <td>3.3</td>\n",
       "      <td>3.3</td>\n",
       "    </tr>\n",
       "    <tr>\n",
       "      <th>2017</th>\n",
       "      <td>0.0</td>\n",
       "      <td>0.0</td>\n",
       "      <td>0.0</td>\n",
       "      <td>3.3</td>\n",
       "    </tr>\n",
       "    <tr>\n",
       "      <th>2018</th>\n",
       "      <td>0.0</td>\n",
       "      <td>0.0</td>\n",
       "      <td>0.0</td>\n",
       "      <td>0.0</td>\n",
       "    </tr>\n",
       "    <tr>\n",
       "      <th>2019</th>\n",
       "      <td>0.0</td>\n",
       "      <td>0.0</td>\n",
       "      <td>0.0</td>\n",
       "      <td>0.0</td>\n",
       "    </tr>\n",
       "    <tr>\n",
       "      <th>2020</th>\n",
       "      <td>0.0</td>\n",
       "      <td>0.0</td>\n",
       "      <td>0.0</td>\n",
       "      <td>0.0</td>\n",
       "    </tr>\n",
       "  </tbody>\n",
       "</table>\n",
       "</div>"
      ],
      "text/plain": [
       "      AnnualPriceReturn  CEO Total Compensation (USD)  \\\n",
       "Year                                                    \n",
       "2010              100.0                           0.0   \n",
       "2011                3.3                           0.0   \n",
       "2012                3.3                           0.0   \n",
       "2013                3.3                           0.0   \n",
       "2014                3.3                           0.0   \n",
       "2015                3.3                           0.0   \n",
       "2016                0.0                           0.0   \n",
       "2017                0.0                           0.0   \n",
       "2018                0.0                           0.0   \n",
       "2019                0.0                           0.0   \n",
       "2020                0.0                           0.0   \n",
       "\n",
       "      Lagged Compensation (t-1)  Lagged Compensation (t-2)  \n",
       "Year                                                        \n",
       "2010                      100.0                      100.0  \n",
       "2011                        3.3                      100.0  \n",
       "2012                        3.3                        3.3  \n",
       "2013                        3.3                        3.3  \n",
       "2014                        3.3                        3.3  \n",
       "2015                        3.3                        3.3  \n",
       "2016                        3.3                        3.3  \n",
       "2017                        0.0                        3.3  \n",
       "2018                        0.0                        0.0  \n",
       "2019                        0.0                        0.0  \n",
       "2020                        0.0                        0.0  "
      ]
     },
     "metadata": {},
     "output_type": "display_data"
    }
   ],
   "source": [
    "#Missing Values\n",
    "key_vars = [DV_COL, COMP_COL, LAG1_COL, LAG2_COL]\n",
    "print(\"Rows × Cols:\", df_model.shape)\n",
    "\n",
    "print(\"\\n% Missing (key vars):\")\n",
    "print((df_model[key_vars].isna().mean()*100).round(2).sort_values(ascending=False))\n",
    "\n",
    "print(\"\\n% Missing by YEAR (key vars):\")\n",
    "display(\n",
    "    df_model.groupby(YEAR_COL)[key_vars]\n",
    "            .apply(lambda x: (x.isna().mean()*100).round(1))\n",
    ")"
   ]
  },
  {
   "cell_type": "code",
   "execution_count": 28,
   "id": "614ad05c-d9b9-4c43-a1ec-52d150a19df0",
   "metadata": {},
   "outputs": [
    {
     "name": "stdout",
     "output_type": "stream",
     "text": [
      "\n",
      "Shapes after handling missing (no duplicate edits):\n",
      " - model_now : (295, 25) (kept rows with DV & current comp)\n",
      " - model_lags: (264, 25) (kept rows with DV & t-1 & t-2)\n"
     ]
    }
   ],
   "source": [
    "#Handling missing values\n",
    "model_now  = df_model.dropna(subset=[DV_COL, COMP_COL]).copy()           \n",
    "model_lags = df_model.dropna(subset=[DV_COL, LAG1_COL, LAG2_COL]).copy()\n",
    "\n",
    "print(\"\\nShapes after handling missing (no duplicate edits):\")\n",
    "print(\" - model_now :\", model_now.shape,  \"(kept rows with DV & current comp)\")\n",
    "print(\" - model_lags:\", model_lags.shape, \"(kept rows with DV & t-1 & t-2)\")"
   ]
  },
  {
   "cell_type": "code",
   "execution_count": 29,
   "id": "662bd00c-6843-48dc-8696-34e3deadf746",
   "metadata": {},
   "outputs": [],
   "source": [
    "#Check\n",
    "assert exact_dups == 0, \"Found exact duplicate rows.\"\n",
    "assert fw_dups == 0,    \"Found firm-year duplicate rows.\""
   ]
  },
  {
   "cell_type": "markdown",
   "id": "263c8eed-f8e3-47ec-82d3-1b9dccc28426",
   "metadata": {},
   "source": [
    "### **2. Model Implementation**"
   ]
  },
  {
   "cell_type": "markdown",
   "id": "75315c45-d351-45e5-ad42-3d4ae0ff8c32",
   "metadata": {},
   "source": [
    "#### 2.1. Panel object & Basic Descriptives"
   ]
  },
  {
   "cell_type": "code",
   "execution_count": 32,
   "id": "21799959-9709-47c8-8f94-56fe2908f4ff",
   "metadata": {},
   "outputs": [
    {
     "name": "stdout",
     "output_type": "stream",
     "text": [
      "                           count          mean           std            min  \\\n",
      "AnnualPriceReturn          264.0  8.726832e-02  2.975361e-01      -0.578345   \n",
      "Lagged Compensation (t-1)  264.0  9.480631e+06  1.680901e+07  100000.000000   \n",
      "Lagged Compensation (t-2)  264.0  8.967106e+06  1.553568e+07       1.000000   \n",
      "logLag1                    264.0  1.527500e+01  1.389069e+00      11.512935   \n",
      "logLag2                    264.0  1.520056e+01  1.630271e+00       0.693147   \n",
      "\n",
      "                                     10%           25%           50%  \\\n",
      "AnnualPriceReturn              -0.214362 -8.663476e-02  5.279126e-02   \n",
      "Lagged Compensation (t-1)  434500.000000  2.307500e+06  5.950000e+06   \n",
      "Lagged Compensation (t-2)  418400.000000  1.837500e+06  5.931500e+06   \n",
      "logLag1                        12.981940  1.463976e+01  1.559890e+01   \n",
      "logLag2                        12.943733  1.442353e+01  1.559578e+01   \n",
      "\n",
      "                                    75%           90%           max  \n",
      "AnnualPriceReturn          2.298316e-01  3.796096e-01  1.885341e+00  \n",
      "Lagged Compensation (t-1)  8.341875e+06  1.794000e+07  1.360000e+08  \n",
      "Lagged Compensation (t-2)  8.270000e+06  1.762000e+07  1.360000e+08  \n",
      "logLag1                    1.593678e+01  1.670253e+01  1.872817e+01  \n",
      "logLag2                    1.592814e+01  1.668442e+01  1.872817e+01  \n"
     ]
    }
   ],
   "source": [
    "from linearmodels.panel import PanelOLS, RandomEffects\n",
    "import statsmodels.api as sm\n",
    "\n",
    "DVNAME  = DV      if 'DV'  in globals() else DV_COL\n",
    "LAG1    = L1      if 'L1'  in globals() else LAG1_COL\n",
    "LAG2    = L2      if 'L2'  in globals() else LAG2_COL\n",
    "\n",
    "#Building panel index\n",
    "panel = model_lags.set_index([ID_COL, YEAR_COL]).sort_index().copy()\n",
    "\n",
    "#Coerce to numeric float before log/estimation\n",
    "for c in [DVNAME, LAG1, LAG2]:\n",
    "    panel[c] = pd.to_numeric(panel[c], errors=\"coerce\").astype(float)\n",
    "\n",
    "#No logs of negatives; set negatives to NaN\n",
    "for c in [LAG1, LAG2]:\n",
    "    bad = (panel[c] < 0).sum()\n",
    "    if bad:\n",
    "        print(f\"Note: {bad} negative values in {c}; setting to NaN before log1p.\")\n",
    "        panel.loc[panel[c] < 0, c] = np.nan\n",
    "\n",
    "#Log-transform lags to keep original column names untouched\n",
    "panel[\"logLag1\"] = np.log1p(panel[LAG1])\n",
    "panel[\"logLag2\"] = np.log1p(panel[LAG2])\n",
    "\n",
    "#Basic descriptives\n",
    "desc = panel[[DVNAME, LAG1, LAG2, \"logLag1\", \"logLag2\"]].describe(percentiles=[.1,.25,.5,.75,.9]).T\n",
    "print(desc)"
   ]
  },
  {
   "cell_type": "markdown",
   "id": "6631002f-df06-40ff-93fc-7455dfa31642",
   "metadata": {},
   "source": [
    "#### 2.2. Fixed-Effects"
   ]
  },
  {
   "cell_type": "code",
   "execution_count": 34,
   "id": "12cb8f2f-6eb7-4954-9350-74d7ba1260d8",
   "metadata": {},
   "outputs": [
    {
     "name": "stdout",
     "output_type": "stream",
     "text": [
      "                          PanelOLS Estimation Summary                           \n",
      "================================================================================\n",
      "Dep. Variable:      AnnualPriceReturn   R-squared:                        0.0161\n",
      "Estimator:                   PanelOLS   R-squared (Between):             -32.361\n",
      "No. Observations:                 264   R-squared (Within):               0.0173\n",
      "Date:                Mon, Aug 25 2025   R-squared (Overall):             -27.776\n",
      "Time:                        19:20:57   Log-likelihood                    24.365\n",
      "Cov. Estimator:             Clustered                                           \n",
      "                                        F-statistic:                      1.8287\n",
      "Entities:                          30   P-value                           0.1630\n",
      "Avg Obs:                       8.8000   Distribution:                   F(2,224)\n",
      "Min Obs:                       3.0000                                           \n",
      "Max Obs:                       9.0000   F-statistic (robust):             3.6472\n",
      "                                        P-value                           0.0276\n",
      "Time periods:                       9   Distribution:                   F(2,224)\n",
      "Avg Obs:                       29.333                                           \n",
      "Min Obs:                       29.000                                           \n",
      "Max Obs:                       30.000                                           \n",
      "                                                                                \n",
      "                             Parameter Estimates                              \n",
      "==============================================================================\n",
      "            Parameter  Std. Err.     T-stat    P-value    Lower CI    Upper CI\n",
      "------------------------------------------------------------------------------\n",
      "logLag1        0.1387     0.0974     1.4239     0.1559     -0.0533      0.3307\n",
      "logLag2       -0.0268     0.0102    -2.6240     0.0093     -0.0470     -0.0067\n",
      "==============================================================================\n",
      "\n",
      "F-test for Poolability: 4.6648\n",
      "P-value: 0.0000\n",
      "Distribution: F(37,224)\n",
      "\n",
      "Included effects: Entity, Time\n"
     ]
    }
   ],
   "source": [
    "#FE with firm & year effects; cluster SE by firm\n",
    "X_FE = [\"logLag1\", \"logLag2\"]\n",
    "fe_mod = PanelOLS(panel[DVNAME], panel[X_FE], entity_effects=True, time_effects=True)\n",
    "fe_res = fe_mod.fit(cov_type=\"clustered\", cluster_entity=True)\n",
    "print(fe_res.summary)"
   ]
  },
  {
   "cell_type": "markdown",
   "id": "518692c6-dc83-476f-bcb1-787e85016c44",
   "metadata": {},
   "source": [
    "#### 2.3. Random Effects & Hausman Test"
   ]
  },
  {
   "cell_type": "code",
   "execution_count": 36,
   "id": "d3d8ac7d-6582-4bf3-a0c0-ef04bf8fa218",
   "metadata": {},
   "outputs": [
    {
     "name": "stdout",
     "output_type": "stream",
     "text": [
      "                        RandomEffects Estimation Summary                        \n",
      "================================================================================\n",
      "Dep. Variable:      AnnualPriceReturn   R-squared:                        0.0256\n",
      "Estimator:              RandomEffects   R-squared (Between):              0.1141\n",
      "No. Observations:                 264   R-squared (Within):               0.0122\n",
      "Date:                Mon, Aug 25 2025   R-squared (Overall):              0.0064\n",
      "Time:                        19:20:57   Log-likelihood                   -8.3711\n",
      "Cov. Estimator:            Unadjusted                                           \n",
      "                                        F-statistic:                      3.4321\n",
      "Entities:                          30   P-value                           0.0338\n",
      "Avg Obs:                       8.8000   Distribution:                   F(2,261)\n",
      "Min Obs:                       3.0000                                           \n",
      "Max Obs:                       9.0000   F-statistic (robust):             2.8105\n",
      "                                        P-value                           0.0620\n",
      "Time periods:                       9   Distribution:                   F(2,261)\n",
      "Avg Obs:                       29.333                                           \n",
      "Min Obs:                       29.000                                           \n",
      "Max Obs:                       30.000                                           \n",
      "                                                                                \n",
      "                             Parameter Estimates                              \n",
      "==============================================================================\n",
      "            Parameter  Std. Err.     T-stat    P-value    Lower CI    Upper CI\n",
      "------------------------------------------------------------------------------\n",
      "const          0.7414     0.4565     1.6240     0.1056     -0.1575      1.6403\n",
      "logLag1       -0.0120     0.0339    -0.3550     0.7229     -0.0787      0.0547\n",
      "logLag2       -0.0297     0.0157    -1.8984     0.0587     -0.0606      0.0011\n",
      "==============================================================================\n",
      "Hausman: (2.61080626545238, 2, 0.2710632385542555)\n"
     ]
    }
   ],
   "source": [
    "#RE with explicit constant (required by linearmodels)\n",
    "X_RE = sm.add_constant(panel[X_FE], has_constant='add')\n",
    "re_mod = RandomEffects(panel[DVNAME], X_RE)\n",
    "re_res = re_mod.fit()\n",
    "print(re_res.summary)\n",
    "\n",
    "#Hausman test: comparing FE vs RE on common regressors\n",
    "from scipy.stats import chi2\n",
    "def hausman(fe, re, xcols):\n",
    "    b_fe = fe.params.reindex(xcols).values\n",
    "    b_re = re.params.reindex(xcols).values\n",
    "    V_fe = fe.cov.reindex(index=xcols, columns=xcols).values\n",
    "    V_re = re.cov.reindex(index=xcols, columns=xcols).values\n",
    "    diff  = b_fe - b_re\n",
    "    Vdiff = V_fe - V_re\n",
    "    stat = float(diff.T @ np.linalg.pinv(Vdiff) @ diff)\n",
    "    p = 1 - chi2.cdf(stat, len(xcols))\n",
    "    return stat, len(xcols), p\n",
    "\n",
    "print(\"Hausman:\", hausman(fe_res, re_res, X_FE))"
   ]
  },
  {
   "cell_type": "markdown",
   "id": "09dee478-01d7-482b-b39c-811bad65c091",
   "metadata": {},
   "source": [
    "### **3. Model Evaluation & Robustness**"
   ]
  },
  {
   "cell_type": "code",
   "execution_count": 38,
   "id": "eeeade12-7085-49f8-a4e9-845a8c5f7b3a",
   "metadata": {},
   "outputs": [
    {
     "name": "stdout",
     "output_type": "stream",
     "text": [
      "Baseline FE summary (already run above):\n",
      "                          PanelOLS Estimation Summary                           \n",
      "================================================================================\n",
      "Dep. Variable:      AnnualPriceReturn   R-squared:                        0.0161\n",
      "Estimator:                   PanelOLS   R-squared (Between):             -32.361\n",
      "No. Observations:                 264   R-squared (Within):               0.0173\n",
      "Date:                Mon, Aug 25 2025   R-squared (Overall):             -27.776\n",
      "Time:                        19:20:57   Log-likelihood                    24.365\n",
      "Cov. Estimator:             Clustered                                           \n",
      "                                        F-statistic:                      1.8287\n",
      "Entities:                          30   P-value                           0.1630\n",
      "Avg Obs:                       8.8000   Distribution:                   F(2,224)\n",
      "Min Obs:                       3.0000                                           \n",
      "Max Obs:                       9.0000   F-statistic (robust):             3.6472\n",
      "                                        P-value                           0.0276\n",
      "Time periods:                       9   Distribution:                   F(2,224)\n",
      "Avg Obs:                       29.333                                           \n",
      "Min Obs:                       29.000                                           \n",
      "Max Obs:                       30.000                                           \n",
      "                                                                                \n",
      "                             Parameter Estimates                              \n",
      "==============================================================================\n",
      "            Parameter  Std. Err.     T-stat    P-value    Lower CI    Upper CI\n",
      "------------------------------------------------------------------------------\n",
      "logLag1        0.1387     0.0974     1.4239     0.1559     -0.0533      0.3307\n",
      "logLag2       -0.0268     0.0102    -2.6240     0.0093     -0.0470     -0.0067\n",
      "==============================================================================\n",
      "\n",
      "F-test for Poolability: 4.6648\n",
      "P-value: 0.0000\n",
      "Distribution: F(37,224)\n",
      "\n",
      "Included effects: Entity, Time\n"
     ]
    }
   ],
   "source": [
    "#Re-using objects\n",
    "assert 'panel' in globals(), \"Build `panel` first (from model_lags).\"\n",
    "assert all(c in panel.columns for c in [\"logLag1\",\"logLag2\", DV_COL]), \"Need logLag1/logLag2 + DV in `panel`.\"\n",
    "\n",
    "#If FE model object not in memory, (re)fit it exactly as before\n",
    "X_FE = [\"logLag1\", \"logLag2\"]\n",
    "if 'fe_mod' not in globals() or 'fe_res' not in globals():\n",
    "    fe_mod = PanelOLS(panel[DV_COL], panel[X_FE], entity_effects=True, time_effects=True)\n",
    "    fe_res = fe_mod.fit(cov_type=\"clustered\", cluster_entity=True)\n",
    "\n",
    "print(\"Baseline FE summary (already run above):\")\n",
    "print(fe_res.summary)"
   ]
  },
  {
   "cell_type": "markdown",
   "id": "2b00f288-6f55-45f9-b5f6-7a0afc9d628b",
   "metadata": {},
   "source": [
    "#### 3.1. Wald: Joint significance of both lags"
   ]
  },
  {
   "cell_type": "code",
   "execution_count": 40,
   "id": "e381a8c7-d05d-4184-b71b-b0873f6e41b1",
   "metadata": {},
   "outputs": [
    {
     "name": "stdout",
     "output_type": "stream",
     "text": [
      "FE params: ['logLag1', 'logLag2']\n"
     ]
    }
   ],
   "source": [
    "#see the available parameter names\n",
    "print(\"FE params:\", fe_res.params.index.tolist())"
   ]
  },
  {
   "cell_type": "code",
   "execution_count": 41,
   "id": "cd82a3bc-01d3-4488-9723-41f4747df245",
   "metadata": {},
   "outputs": [
    {
     "name": "stdout",
     "output_type": "stream",
     "text": [
      "\n",
      "[Wald] H0: logLag1 = logLag2 = 0\n",
      "Linear Equality Hypothesis Test\n",
      "H0: Linear equality constraint is valid\n",
      "Statistic: 7.2943\n",
      "P-value: 0.0261\n",
      "Distributed: chi2(2)\n"
     ]
    }
   ],
   "source": [
    "#Preferred\n",
    "try:\n",
    "    wald_both = fe_res.wald_test(formula=\"logLag1 = 0, logLag2 = 0\")\n",
    "    print(\"\\n[Wald] H0: logLag1 = logLag2 = 0\")\n",
    "    print(wald_both)\n",
    "except Exception as e:\n",
    "    #Fallback\n",
    "    import numpy as np, pandas as pd\n",
    "    cols = fe_res.params.index.tolist()\n",
    "    assert \"logLag1\" in cols and \"logLag2\" in cols, \\\n",
    "        f\"Expected 'logLag1'/'logLag2' in params, got: {cols}\"\n",
    "\n",
    "    R = pd.DataFrame(0.0, index=[\"r1\",\"r2\"], columns=cols)\n",
    "    R.loc[\"r1\",\"logLag1\"] = 1.0\n",
    "    R.loc[\"r2\",\"logLag2\"] = 1.0\n",
    "\n",
    "    wald_both = fe_res.wald_test(restriction=R.values, value=np.zeros(2))\n",
    "    print(\"\\n[Wald] (matrix fallback) H0: logLag1 = logLag2 = 0\")\n",
    "    print(wald_both)"
   ]
  },
  {
   "cell_type": "markdown",
   "id": "3fc86b54-1e3a-4483-8a9e-4982af9b9aa5",
   "metadata": {},
   "source": [
    "#### 3.2. Alternative SEs"
   ]
  },
  {
   "cell_type": "code",
   "execution_count": 43,
   "id": "434d67c0-313a-4244-b914-33e38d5977f6",
   "metadata": {},
   "outputs": [
    {
     "name": "stdout",
     "output_type": "stream",
     "text": [
      "\n",
      "[FE] Two-way clustered SEs (entity & time):\n",
      "                          PanelOLS Estimation Summary                           \n",
      "================================================================================\n",
      "Dep. Variable:      AnnualPriceReturn   R-squared:                        0.0161\n",
      "Estimator:                   PanelOLS   R-squared (Between):             -32.361\n",
      "No. Observations:                 264   R-squared (Within):               0.0173\n",
      "Date:                Mon, Aug 25 2025   R-squared (Overall):             -27.776\n",
      "Time:                        19:20:57   Log-likelihood                    24.365\n",
      "Cov. Estimator:             Clustered                                           \n",
      "                                        F-statistic:                      1.8287\n",
      "Entities:                          30   P-value                           0.1630\n",
      "Avg Obs:                       8.8000   Distribution:                   F(2,224)\n",
      "Min Obs:                       3.0000                                           \n",
      "Max Obs:                       9.0000   F-statistic (robust):             5.8759\n",
      "                                        P-value                           0.0033\n",
      "Time periods:                       9   Distribution:                   F(2,224)\n",
      "Avg Obs:                       29.333                                           \n",
      "Min Obs:                       29.000                                           \n",
      "Max Obs:                       30.000                                           \n",
      "                                                                                \n",
      "                             Parameter Estimates                              \n",
      "==============================================================================\n",
      "            Parameter  Std. Err.     T-stat    P-value    Lower CI    Upper CI\n",
      "------------------------------------------------------------------------------\n",
      "logLag1        0.1387     0.0983     1.4118     0.1594     -0.0549      0.3324\n",
      "logLag2       -0.0268     0.0080    -3.3539     0.0009     -0.0426     -0.0111\n",
      "==============================================================================\n",
      "\n",
      "F-test for Poolability: 4.6648\n",
      "P-value: 0.0000\n",
      "Distribution: F(37,224)\n",
      "\n",
      "Included effects: Entity, Time\n"
     ]
    }
   ],
   "source": [
    "#2-way clustering\n",
    "fe_tw = fe_mod.fit(cov_type=\"clustered\", cluster_entity=True, cluster_time=True)\n",
    "print(\"\\n[FE] Two-way clustered SEs (entity & time):\")\n",
    "print(fe_tw.summary)"
   ]
  },
  {
   "cell_type": "code",
   "execution_count": 44,
   "id": "53556ca5-2344-442a-b296-960d3d3cd9d5",
   "metadata": {},
   "outputs": [
    {
     "name": "stdout",
     "output_type": "stream",
     "text": [
      "\n",
      "[FE] Kernel-robust SEs (Bartlett, bw=3):\n",
      "                          PanelOLS Estimation Summary                           \n",
      "================================================================================\n",
      "Dep. Variable:      AnnualPriceReturn   R-squared:                        0.0161\n",
      "Estimator:                   PanelOLS   R-squared (Between):             -32.361\n",
      "No. Observations:                 264   R-squared (Within):               0.0173\n",
      "Date:                Mon, Aug 25 2025   R-squared (Overall):             -27.776\n",
      "Time:                        19:20:57   Log-likelihood                    24.365\n",
      "Cov. Estimator:        Driscoll-Kraay                                           \n",
      "                                        F-statistic:                      1.8287\n",
      "Entities:                          30   P-value                           0.1630\n",
      "Avg Obs:                       8.8000   Distribution:                   F(2,224)\n",
      "Min Obs:                       3.0000                                           \n",
      "Max Obs:                       9.0000   F-statistic (robust):             6.2082\n",
      "                                        P-value                           0.0024\n",
      "Time periods:                       9   Distribution:                   F(2,224)\n",
      "Avg Obs:                       29.333                                           \n",
      "Min Obs:                       29.000                                           \n",
      "Max Obs:                       30.000                                           \n",
      "                                                                                \n",
      "                             Parameter Estimates                              \n",
      "==============================================================================\n",
      "            Parameter  Std. Err.     T-stat    P-value    Lower CI    Upper CI\n",
      "------------------------------------------------------------------------------\n",
      "logLag1        0.1387     0.0554     2.5026     0.0130      0.0295      0.2480\n",
      "logLag2       -0.0268     0.0093    -2.8774     0.0044     -0.0452     -0.0085\n",
      "==============================================================================\n",
      "\n",
      "F-test for Poolability: 4.6648\n",
      "P-value: 0.0000\n",
      "Distribution: F(37,224)\n",
      "\n",
      "Included effects: Entity, Time\n"
     ]
    }
   ],
   "source": [
    "#Kernel-robust (Bartlett)\n",
    "fe_kern = fe_mod.fit(cov_type=\"kernel\", kernel=\"bartlett\", bandwidth=3)\n",
    "print(\"\\n[FE] Kernel-robust SEs (Bartlett, bw=3):\")\n",
    "print(fe_kern.summary)"
   ]
  },
  {
   "cell_type": "markdown",
   "id": "cc4cc020-ce55-4da6-afa9-21e7b6b6304a",
   "metadata": {},
   "source": [
    "#### 3.3. Heterogeneity by sector dummy"
   ]
  },
  {
   "cell_type": "code",
   "execution_count": 46,
   "id": "61b2ab4f-aa4e-4915-ab98-57f94d8241a7",
   "metadata": {},
   "outputs": [
    {
     "name": "stdout",
     "output_type": "stream",
     "text": [
      "\n",
      "[FE] Subsample: Sector Dummy == 1 (Consumer/Industrial)\n",
      "                          PanelOLS Estimation Summary                           \n",
      "================================================================================\n",
      "Dep. Variable:      AnnualPriceReturn   R-squared:                        0.0434\n",
      "Estimator:                   PanelOLS   R-squared (Between):             -1203.2\n",
      "No. Observations:                  81   R-squared (Within):               0.0235\n",
      "Date:                Mon, Aug 25 2025   R-squared (Overall):             -427.31\n",
      "Time:                        19:20:58   Log-likelihood                    16.287\n",
      "Cov. Estimator:             Clustered                                           \n",
      "                                        F-statistic:                      1.4076\n",
      "Entities:                           9   P-value                           0.2524\n",
      "Avg Obs:                       9.0000   Distribution:                    F(2,62)\n",
      "Min Obs:                       9.0000                                           \n",
      "Max Obs:                       9.0000   F-statistic (robust):             2.3403\n",
      "                                        P-value                           0.1047\n",
      "Time periods:                       9   Distribution:                    F(2,62)\n",
      "Avg Obs:                       9.0000                                           \n",
      "Min Obs:                       9.0000                                           \n",
      "Max Obs:                       9.0000                                           \n",
      "                                                                                \n",
      "                             Parameter Estimates                              \n",
      "==============================================================================\n",
      "            Parameter  Std. Err.     T-stat    P-value    Lower CI    Upper CI\n",
      "------------------------------------------------------------------------------\n",
      "logLag1       -0.3841     0.3733    -1.0290     0.3075     -1.1304      0.3621\n",
      "logLag2       -0.0222     0.2443    -0.0909     0.9278     -0.5106      0.4662\n",
      "==============================================================================\n",
      "\n",
      "F-test for Poolability: 3.6536\n",
      "P-value: 0.0001\n",
      "Distribution: F(16,62)\n",
      "\n",
      "Included effects: Entity, Time\n",
      "\n",
      "[FE] Subsample: Sector Dummy == 0 (others)\n",
      "                          PanelOLS Estimation Summary                           \n",
      "================================================================================\n",
      "Dep. Variable:      AnnualPriceReturn   R-squared:                        0.0380\n",
      "Estimator:                   PanelOLS   R-squared (Between):             -91.716\n",
      "No. Observations:                 183   R-squared (Within):               0.0370\n",
      "Date:                Mon, Aug 25 2025   R-squared (Overall):             -96.561\n",
      "Time:                        19:20:58   Log-likelihood                    15.754\n",
      "Cov. Estimator:             Clustered                                           \n",
      "                                        F-statistic:                      3.0035\n",
      "Entities:                          21   P-value                           0.0526\n",
      "Avg Obs:                       8.7143   Distribution:                   F(2,152)\n",
      "Min Obs:                       3.0000                                           \n",
      "Max Obs:                       9.0000   F-statistic (robust):             6.7006\n",
      "                                        P-value                           0.0016\n",
      "Time periods:                       9   Distribution:                   F(2,152)\n",
      "Avg Obs:                       20.333                                           \n",
      "Min Obs:                       20.000                                           \n",
      "Max Obs:                       21.000                                           \n",
      "                                                                                \n",
      "                             Parameter Estimates                              \n",
      "==============================================================================\n",
      "            Parameter  Std. Err.     T-stat    P-value    Lower CI    Upper CI\n",
      "------------------------------------------------------------------------------\n",
      "logLag1        0.2348     0.0824     2.8477     0.0050      0.0719      0.3977\n",
      "logLag2       -0.0317     0.0108    -2.9378     0.0038     -0.0531     -0.0104\n",
      "==============================================================================\n",
      "\n",
      "F-test for Poolability: 4.4546\n",
      "P-value: 0.0000\n",
      "Distribution: F(28,152)\n",
      "\n",
      "Included effects: Entity, Time\n"
     ]
    }
   ],
   "source": [
    "#Running the same FE spec separately for Consumer/Industrial==1 vs 0\n",
    "if \"Sector Dummy\" in model_lags.columns:\n",
    "    print(\"\\n[FE] Subsample: Sector Dummy == 1 (Consumer/Industrial)\")\n",
    "    s1 = model_lags.loc[model_lags[\"Sector Dummy\"]==1].set_index([ID_COL, YEAR_COL]).sort_index().copy()\n",
    "    for c in [DV_COL, LAG1_COL, LAG2_COL]:\n",
    "        s1[c] = pd.to_numeric(s1[c], errors=\"coerce\").astype(float)\n",
    "    s1[\"logLag1\"] = np.log1p(s1[LAG1_COL]); s1[\"logLag2\"] = np.log1p(s1[LAG2_COL])\n",
    "    res1 = PanelOLS(s1[DV_COL], s1[[\"logLag1\",\"logLag2\"]], entity_effects=True, time_effects=True)\\\n",
    "            .fit(cov_type=\"clustered\", cluster_entity=True)\n",
    "    print(res1.summary)\n",
    "\n",
    "    print(\"\\n[FE] Subsample: Sector Dummy == 0 (others)\")\n",
    "    s0 = model_lags.loc[model_lags[\"Sector Dummy\"]==0].set_index([ID_COL, YEAR_COL]).sort_index().copy()\n",
    "    for c in [DV_COL, LAG1_COL, LAG2_COL]:\n",
    "        s0[c] = pd.to_numeric(s0[c], errors=\"coerce\").astype(float)\n",
    "    s0[\"logLag1\"] = np.log1p(s0[LAG1_COL]); s0[\"logLag2\"] = np.log1p(s0[LAG2_COL])\n",
    "    res0 = PanelOLS(s0[DV_COL], s0[[\"logLag1\",\"logLag2\"]], entity_effects=True, time_effects=True)\\\n",
    "            .fit(cov_type=\"clustered\", cluster_entity=True)\n",
    "    print(res0.summary)"
   ]
  },
  {
   "cell_type": "markdown",
   "id": "e615c8f3-3a40-4266-96cf-6ae18c191211",
   "metadata": {},
   "source": [
    "#### 3.4. Influence: leave-one-firm-out (LOEO) stability check"
   ]
  },
  {
   "cell_type": "code",
   "execution_count": 48,
   "id": "07de1f4b-8e8b-44df-9139-7726645e2f40",
   "metadata": {},
   "outputs": [
    {
     "name": "stdout",
     "output_type": "stream",
     "text": [
      "\n",
      "[LOEO] Coefficient ranges when dropping one firm at a time:\n",
      "                   min       max      mean\n",
      "beta_logLag1  0.101363  0.248682  0.143761\n",
      "beta_logLag2 -0.355015 -0.020724 -0.037591\n"
     ]
    }
   ],
   "source": [
    "entities = panel.index.get_level_values(0).unique()\n",
    "rows = []\n",
    "for firm in entities:\n",
    "    psub = panel.drop(index=firm, level=0)\n",
    "    # guard against too-small samples\n",
    "    try:\n",
    "        res = PanelOLS(psub[DV_COL], psub[X_FE], entity_effects=True, time_effects=True)\\\n",
    "                .fit(cov_type=\"clustered\", cluster_entity=True)\n",
    "        rows.append({\"firm_left_out\": firm,\n",
    "                     \"beta_logLag1\": res.params.get(\"logLag1\", np.nan),\n",
    "                     \"beta_logLag2\": res.params.get(\"logLag2\", np.nan)})\n",
    "    except Exception as e:\n",
    "        rows.append({\"firm_left_out\": firm, \"beta_logLag1\": np.nan, \"beta_logLag2\": np.nan})\n",
    "\n",
    "loeo = pd.DataFrame(rows)\n",
    "print(\"\\n[LOEO] Coefficient ranges when dropping one firm at a time:\")\n",
    "print(loeo[[\"beta_logLag1\",\"beta_logLag2\"]].agg(['min','max','mean']).T)"
   ]
  },
  {
   "cell_type": "markdown",
   "id": "87c193d3-5b49-46c5-90d4-bd86f5c55ce6",
   "metadata": {},
   "source": [
    "#### 3.5. Multicollinearity (VIF) on regressors used in FE"
   ]
  },
  {
   "cell_type": "code",
   "execution_count": 50,
   "id": "e2f8db86-eb0a-4b1e-b1a5-f0da8ec43970",
   "metadata": {},
   "outputs": [
    {
     "name": "stdout",
     "output_type": "stream",
     "text": [
      "\n",
      "[VIF] on FE regressors:\n",
      "   feature         VIF\n",
      "0    const  124.153518\n",
      "1  logLag1    2.465877\n",
      "2  logLag2    2.465877\n"
     ]
    }
   ],
   "source": [
    "import statsmodels.api as sm\n",
    "from statsmodels.stats.outliers_influence import variance_inflation_factor\n",
    "\n",
    "X_for_vif = sm.add_constant(panel[X_FE].dropna(), has_constant='add')\n",
    "vif = pd.DataFrame({\n",
    "    \"feature\": X_for_vif.columns,\n",
    "    \"VIF\": [variance_inflation_factor(X_for_vif.values, i) for i in range(X_for_vif.shape[1])]\n",
    "})\n",
    "print(\"\\n[VIF] on FE regressors:\")\n",
    "print(vif)"
   ]
  },
  {
   "cell_type": "markdown",
   "id": "fe77ecb3-9f71-4ab6-a2ce-e551feff6db8",
   "metadata": {},
   "source": [
    "#### 3.6. Winsorisation robustness"
   ]
  },
  {
   "cell_type": "code",
   "execution_count": 52,
   "id": "24d5a36b-d007-4142-9c74-594d85e8bbba",
   "metadata": {},
   "outputs": [],
   "source": [
    "DO_WINS = False\n",
    "if DO_WINS:\n",
    "    def winsorize(s, p=0.01):\n",
    "        lo, hi = s.quantile(p), s.quantile(1-p)\n",
    "        return s.clip(lo, hi)\n",
    "    pw = panel.copy()\n",
    "    for c in [DV_COL, \"logLag1\", \"logLag2\"]:\n",
    "        pw[c] = winsorize(pw[c])\n",
    "    fe_w = PanelOLS(pw[DV_COL], pw[X_FE], entity_effects=True, time_effects=True)\\\n",
    "            .fit(cov_type=\"clustered\", cluster_entity=True)\n",
    "    print(\"\\n[FE] Winsorised (1–99%) robustness:\")\n",
    "    print(fe_w.summary)"
   ]
  },
  {
   "cell_type": "markdown",
   "id": "397766d6-e9a5-4d91-9e14-abd49f146dcf",
   "metadata": {},
   "source": [
    "#### 3.7. Exporting tables"
   ]
  },
  {
   "cell_type": "code",
   "execution_count": 54,
   "id": "48ee1f48-9c8f-4238-adb5-4b480b1450ce",
   "metadata": {},
   "outputs": [
    {
     "name": "stdout",
     "output_type": "stream",
     "text": [
      "Exported: ta_table01_fe_cluster_entity, ta_table04_re\n"
     ]
    }
   ],
   "source": [
    "#This cell saves all model tables to `../outputs/tables/`\n",
    "OUT = Path(\"../outputs/tables\")\n",
    "OUT.mkdir(parents=True, exist_ok=True)\n",
    "\n",
    "def export_model(res, fname, cov=\"\"):\n",
    "    coef = pd.Series(res.params, name=\"coef\")\n",
    "    se   = pd.Series(getattr(res, \"std_errors\", getattr(res, \"bse\", None)), name=\"std_err\")\n",
    "    tval = pd.Series(getattr(res, \"tstats\",     getattr(res, \"tvalues\", None)), name=\"t\")\n",
    "    pval = pd.Series(res.pvalues, name=\"p\")\n",
    "    df = pd.concat([coef, se, tval, pval], axis=1)\n",
    "    try:\n",
    "        ci = res.conf_int()\n",
    "        df[\"ci_low\"]  = ci.iloc[:,0]\n",
    "        df[\"ci_high\"] = ci.iloc[:,1]\n",
    "    except Exception:\n",
    "        pass\n",
    "    df.index.name = \"variable\"\n",
    "    df.reset_index().to_csv(OUT / f\"{fname}.csv\", index=False)\n",
    "\n",
    "    meta = {\n",
    "        \"covariance\": cov,\n",
    "        \"nobs\": getattr(res, \"nobs\", None),\n",
    "        \"rsq_within\": getattr(getattr(res, \"rsquared\", None), \"within\", None),\n",
    "        \"rsq_overall\": getattr(getattr(res, \"rsquared\", None), \"overall\", None),\n",
    "    }\n",
    "    json.dump(meta, open(OUT / f\"{fname}_meta.json\", \"w\"), indent=2)\n",
    "\n",
    "#Mapping result objects here\n",
    "TO_EXPORT = {\n",
    "    \"fe_res\"               : (\"ta_table01_fe_cluster_entity\", \"cluster_entity\"),\n",
    "    \"fe_res_twoway\"        : (\"ta_table02_fe_twoway\",         \"cluster_firm_year\"),\n",
    "    \"fe_res_dk\"            : (\"ta_table03_fe_driscollkraay\",  \"driscoll_kraay\"),\n",
    "    \"re_res\"               : (\"ta_table04_re\",                \"re\"),\n",
    "    #Sector subsamples\n",
    "    \"fe_consumer_industrial\": (\"ta_table07_sector_consumer_industrial\",\"cluster_entity\"),\n",
    "    \"fe_other_sectors\"      : (\"ta_table07_sector_other\",            \"cluster_entity\"),\n",
    "}\n",
    "\n",
    "#Exporting\n",
    "exported = []\n",
    "for var, (fname, cov) in TO_EXPORT.items():\n",
    "    if var in globals() and globals()[var] is not None:\n",
    "        export_model(globals()[var], fname, cov)\n",
    "        exported.append(fname)\n",
    "\n",
    "#LOEO and VIF\n",
    "if \"loeo_results\" in globals():\n",
    "    rows = []\n",
    "    for firm, res in loeo_results.items():\n",
    "        rows.append({\n",
    "            \"omitted_firm\": firm,\n",
    "            \"beta_logLag1\": res.params.get(\"logLag1\", float(\"nan\")),\n",
    "            \"beta_logLag2\": res.params.get(\"logLag2\", float(\"nan\")),\n",
    "        })\n",
    "    pd.DataFrame(rows).to_csv(OUT / \"ta_table05_loeo.csv\", index=False)\n",
    "    exported.append(\"ta_table05_loeo\")\n",
    "\n",
    "if \"vif_df\" in globals():\n",
    "    vif_df.to_csv(OUT / \"ta_table06_vif.csv\", index=False)\n",
    "    exported.append(\"ta_table06_vif\")\n",
    "\n",
    "print(\"Exported:\", \", \".join(exported) if exported else \"nothing (check variable names)\")"
   ]
  },
  {
   "cell_type": "markdown",
   "id": "17e0ad5e-d75a-4950-b048-a11ab7ea3793",
   "metadata": {},
   "source": [
    "### **4. Visuals**"
   ]
  },
  {
   "cell_type": "markdown",
   "id": "184b4cb4-a9fb-4e11-bfd1-fa2e320efe0f",
   "metadata": {},
   "source": [
    "#### 4.1. Time trend of mean annual return"
   ]
  },
  {
   "cell_type": "code",
   "execution_count": 57,
   "id": "06eea874-78cb-49aa-8a3b-9b1636078eee",
   "metadata": {},
   "outputs": [
    {
     "data": {
      "image/png": "[encoded data removed]",
      "text/plain": [
       "<Figure size 768x576 with 1 Axes>"
      ]
     },
     "metadata": {},
     "output_type": "display_data"
    }
   ],
   "source": [
    "mean_by_year = model_lags.groupby(YEAR_COL)[DV_COL].mean()\n",
    "plt.figure(dpi=120)\n",
    "mean_by_year.plot(marker=\"o\")\n",
    "plt.title(\"Mean Annual Stock Return by Year\"); plt.xlabel(\"Year\"); plt.ylabel(\"Mean return\")\n",
    "plt.tight_layout(); plt.savefig(\"outputs/fig_trend_return.png\", dpi=300); plt.show()"
   ]
  },
  {
   "cell_type": "markdown",
   "id": "782f6e85-2d68-4a38-8d6c-8676c52ec2f9",
   "metadata": {},
   "source": [
    "#### 4.2. Histograms: DV and logLag1"
   ]
  },
  {
   "cell_type": "code",
   "execution_count": 59,
   "id": "69b6371e-de7c-4777-b88d-43a90d6adc48",
   "metadata": {},
   "outputs": [
    {
     "data": {
      "image/png": "[encoded data removed]",
      "text/plain": [
       "<Figure size 768x576 with 1 Axes>"
      ]
     },
     "metadata": {},
     "output_type": "display_data"
    }
   ],
   "source": [
    "plt.figure(dpi=120)\n",
    "panel[DV_COL].dropna().plot(kind=\"hist\", bins=30)\n",
    "plt.title(\"Distribution of Annual Stock Return\"); plt.xlabel(DV_COL)\n",
    "plt.tight_layout(); plt.savefig(\"outputs/fig_hist_return.png\", dpi=300); plt.show()"
   ]
  },
  {
   "cell_type": "code",
   "execution_count": 60,
   "id": "0927de24-a85e-40f0-9a9c-016b2152e3c8",
   "metadata": {},
   "outputs": [
    {
     "data": {
      "image/png": "[encoded data removed]",
      "text/plain": [
       "<Figure size 768x576 with 1 Axes>"
      ]
     },
     "metadata": {},
     "output_type": "display_data"
    }
   ],
   "source": [
    "plt.figure(dpi=120)\n",
    "panel[\"logLag1\"].dropna().plot(kind=\"hist\", bins=30)\n",
    "plt.title(\"Distribution of logLag1\"); plt.xlabel(\"logLag1\")\n",
    "plt.tight_layout(); plt.savefig(\"outputs/fig_hist_logLag1.png\", dpi=300); plt.show()"
   ]
  },
  {
   "cell_type": "markdown",
   "id": "b48ee493-3b3c-4b85-a38f-73c95c0e5f1b",
   "metadata": {},
   "source": [
    "#### 4.3. Binned scatter: logLag1 vs DV"
   ]
  },
  {
   "cell_type": "code",
   "execution_count": 62,
   "id": "c9d6f970-ec39-4ef7-b57f-45a29f9b117c",
   "metadata": {},
   "outputs": [
    {
     "data": {
      "image/png": "[encoded data removed]",
      "text/plain": [
       "<Figure size 768x576 with 1 Axes>"
      ]
     },
     "metadata": {},
     "output_type": "display_data"
    }
   ],
   "source": [
    "tmp = panel[[\"logLag1\", DV_COL]].dropna().copy()\n",
    "tmp[\"bin\"] = pd.qcut(tmp[\"logLag1\"], q=10, duplicates=\"drop\")\n",
    "b = tmp.groupby(\"bin\")[DV_COL].mean()\n",
    "\n",
    "fig, ax = plt.subplots(dpi=120)\n",
    "b.plot(marker=\"o\", ax=ax)\n",
    "ax.set_title(\"Annual Return vs logLag1 (binned means)\")\n",
    "ax.set_xlabel(\"logLag1 deciles\"); ax.set_ylabel(\"Mean Annual Return\")\n",
    "ax.tick_params(axis='x', labelrotation=45)  # vertical tick labels\n",
    "fig.tight_layout(); fig.savefig(\"outputs/fig_binned_return_logLag1.png\", dpi=300)\n",
    "plt.show()"
   ]
  },
  {
   "cell_type": "markdown",
   "id": "14431535-c6ec-4df1-9726-bfd53f5bdc67",
   "metadata": {},
   "source": [
    "#### 4.4. Coefficient plot with 95% CI from FE results"
   ]
  },
  {
   "cell_type": "code",
   "execution_count": 64,
   "id": "ae237b34-b80d-44bb-b65c-b35286f20c4a",
   "metadata": {},
   "outputs": [
    {
     "data": {
      "image/png": "[encoded data removed]",
      "text/plain": [
       "<Figure size 768x576 with 1 Axes>"
      ]
     },
     "metadata": {},
     "output_type": "display_data"
    }
   ],
   "source": [
    "params = [p for p in [\"logLag1\",\"logLag2\"] if p in fe_res.params.index]\n",
    "coef = fe_res.params.loc[params]\n",
    "ci   = fe_res.conf_int().loc[params]\n",
    "lo, hi = ci.columns[0], ci.columns[1]\n",
    "\n",
    "x = np.arange(len(params))\n",
    "fig, ax = plt.subplots(dpi=120)\n",
    "ax.errorbar(x, coef.values,\n",
    "            yerr=[coef.values - ci[lo].values, ci[hi].values - coef.values],\n",
    "            fmt='o', capsize=4)\n",
    "ax.set_xticks(x); ax.set_xticklabels(params)\n",
    "ax.set_title(\"FE coefficients with 95% CI\"); ax.set_ylabel(\"Coefficient\")\n",
    "fig.tight_layout(); fig.savefig(\"outputs/fig_coef_fe.png\", dpi=300)\n",
    "plt.show()"
   ]
  }
 ],
 "metadata": {
  "kernelspec": {
   "display_name": "Python 3 (ipykernel)",
   "language": "python",
   "name": "python3"
  },
  "language_info": {
   "codemirror_mode": {
    "name": "ipython",
    "version": 3
   },
   "file_extension": ".py",
   "mimetype": "text/x-python",
   "name": "python",
   "nbconvert_exporter": "python",
   "pygments_lexer": "ipython3",
   "version": "3.12.4"
  }
 },
 "nbformat": 4,
 "nbformat_minor": 5
}
